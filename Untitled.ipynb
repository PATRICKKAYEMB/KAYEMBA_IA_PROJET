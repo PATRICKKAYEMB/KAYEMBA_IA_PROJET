{
 "cells": [
  {
   "cell_type": "code",
   "execution_count": 209,
   "id": "379efd49-e3f3-4771-94b3-13bdd56344d4",
   "metadata": {},
   "outputs": [],
   "source": [
    "# 1 importation des libraries\n"
   ]
  },
  {
   "cell_type": "code",
   "execution_count": 210,
   "id": "43ad5118-971b-48b8-80ec-2ab33e3f7ab7",
   "metadata": {},
   "outputs": [],
   "source": [
    "import numpy as np\n"
   ]
  },
  {
   "cell_type": "code",
   "execution_count": 211,
   "id": "b7bac77c-aae8-4f0c-a5b0-5a60030166aa",
   "metadata": {},
   "outputs": [],
   "source": [
    "#creation du tableau 1D\n",
    "tab = np.array([2,3,3,4,5,6,7])\n"
   ]
  },
  {
   "cell_type": "code",
   "execution_count": 212,
   "id": "2534a646-d897-4288-9630-49dea9594fb4",
   "metadata": {},
   "outputs": [
    {
     "name": "stdout",
     "output_type": "stream",
     "text": [
      "[2 3 3 4 5 6 7]\n",
      "hello word\n"
     ]
    }
   ],
   "source": [
    "print(tab)\n",
    "print(\"hello word\")\n"
   ]
  },
  {
   "cell_type": "code",
   "execution_count": 213,
   "id": "403f128d-3f98-44b5-b0a7-97e2d8eab9fa",
   "metadata": {},
   "outputs": [],
   "source": [
    "tab2 =np.array([\n",
    "    [1,2,3,4,6,7],\n",
    "    [3,6,12,89,8,7],\n",
    "    [34,12,6,7,8,4]\n",
    "])"
   ]
  },
  {
   "cell_type": "code",
   "execution_count": 214,
   "id": "b5b39b61-6624-4956-ab2f-0061579fc021",
   "metadata": {},
   "outputs": [
    {
     "name": "stdout",
     "output_type": "stream",
     "text": [
      "[[ 1  2  3  4  6  7]\n",
      " [ 3  6 12 89  8  7]\n",
      " [34 12  6  7  8  4]]\n"
     ]
    }
   ],
   "source": [
    "print(tab2)"
   ]
  },
  {
   "cell_type": "code",
   "execution_count": 215,
   "id": "a0dd340a-612d-4a42-9eba-5247d2221057",
   "metadata": {},
   "outputs": [
    {
     "name": "stdout",
     "output_type": "stream",
     "text": [
      "voici la dimession du tableau (3, 6)\n",
      "voici le type du tableu <class 'numpy.ndarray'>\n",
      "le dimension 2\n"
     ]
    }
   ],
   "source": [
    "print(\"voici la dimession du tableau\",tab2.shape)\n",
    "print(\"voici le type du tableu\",type(tab2))\n",
    "print(\"le dimension\",tab2.ndim)"
   ]
  },
  {
   "cell_type": "code",
   "execution_count": 216,
   "id": "9f018737-22c1-485e-9105-da3e0bdadff4",
   "metadata": {},
   "outputs": [],
   "source": [
    "\n",
    "#creation d'un dictionnaire"
   ]
  },
  {
   "cell_type": "code",
   "execution_count": 217,
   "id": "2ddc0c2f-c9ff-4d42-be4f-6a6d7c8131be",
   "metadata": {},
   "outputs": [],
   "source": [
    "info_etudiant={\n",
    "    \"Matricule\":\"2021239045\",\n",
    "    \"Non\": \"KAYEMBA\",\n",
    "    \"Prenom\":\"Patrick\",\n",
    "    \"Age\":12,\n",
    "    \"GPA\":\"A\"\n",
    "}"
   ]
  },
  {
   "cell_type": "code",
   "execution_count": 218,
   "id": "96661309-518b-425a-a213-b167462bbc7f",
   "metadata": {},
   "outputs": [
    {
     "name": "stdout",
     "output_type": "stream",
     "text": [
      "{'Matricule': '2021239045', 'Non': 'KAYEMBA', 'Prenom': 'Patrick', 'Age': 12, 'GPA': 'A'}\n"
     ]
    }
   ],
   "source": [
    "print(info_etudiant)"
   ]
  },
  {
   "cell_type": "code",
   "execution_count": null,
   "id": "f6cd909a-e889-40d5-a667-901c5a941ac1",
   "metadata": {},
   "outputs": [],
   "source": []
  },
  {
   "cell_type": "code",
   "execution_count": 219,
   "id": "ca0ec603-efea-470e-a2a8-82361f1c36e2",
   "metadata": {},
   "outputs": [
    {
     "name": "stdout",
     "output_type": "stream",
     "text": [
      "{'matricule': ['2022020001', '2021030045', '2021030089', '2021030065', '20210300234'], 'Nom': ['Diev', 'patrick', 'erick', 'pasteur', 'junior'], 'Age': [12, 34, 56, 76, 32], 'GPA': ['A', 'B', 'C', 'B', 'A']}\n"
     ]
    }
   ],
   "source": [
    "info_etudiants_GL_IA ={\n",
    "    \"matricule\":[\"2022020001\",\"2021030045\",\"2021030089\",\"2021030065\",\"20210300234\"],\n",
    "    \"Nom\":[\"Diev\",\"patrick\",\"erick\",\"pasteur\",\"junior\"],\n",
    "    \"Age\":[12,34,56,76,32],\n",
    "    \"GPA\":[\"A\",\"B\",\"C\",\"B\",\"A\"]  \n",
    "}\n",
    "\n",
    "print(info_etudiants_GL_IA)"
   ]
  },
  {
   "cell_type": "markdown",
   "id": "b55b6a58-e915-4ddc-be87-addf1f56cce4",
   "metadata": {},
   "source": [
    "# Operation"
   ]
  },
  {
   "cell_type": "code",
   "execution_count": 220,
   "id": "88c46b91-a0b5-4794-b523-3483ba1cf1da",
   "metadata": {},
   "outputs": [],
   "source": [
    "\n",
    "\n",
    "# import Pandas\n",
    "import pandas as pd"
   ]
  },
  {
   "cell_type": "code",
   "execution_count": null,
   "id": "8bc1dd1c-e285-4f5b-8b64-0bb14accbed6",
   "metadata": {},
   "outputs": [],
   "source": []
  },
  {
   "cell_type": "code",
   "execution_count": 221,
   "id": "981c3922-c240-4ec5-af10-a3e3d1befbf3",
   "metadata": {},
   "outputs": [],
   "source": [
    "donnees_etudiant =pd.DataFrame(info_etudiants_GL_IA)"
   ]
  },
  {
   "cell_type": "code",
   "execution_count": 222,
   "id": "6956c681-8ca2-4db9-8f22-4a9dbfb402e7",
   "metadata": {},
   "outputs": [
    {
     "data": {
      "text/html": [
       "<div>\n",
       "<style scoped>\n",
       "    .dataframe tbody tr th:only-of-type {\n",
       "        vertical-align: middle;\n",
       "    }\n",
       "\n",
       "    .dataframe tbody tr th {\n",
       "        vertical-align: top;\n",
       "    }\n",
       "\n",
       "    .dataframe thead th {\n",
       "        text-align: right;\n",
       "    }\n",
       "</style>\n",
       "<table border=\"1\" class=\"dataframe\">\n",
       "  <thead>\n",
       "    <tr style=\"text-align: right;\">\n",
       "      <th></th>\n",
       "      <th>matricule</th>\n",
       "      <th>Nom</th>\n",
       "      <th>Age</th>\n",
       "      <th>GPA</th>\n",
       "    </tr>\n",
       "  </thead>\n",
       "  <tbody>\n",
       "    <tr>\n",
       "      <th>0</th>\n",
       "      <td>2022020001</td>\n",
       "      <td>Diev</td>\n",
       "      <td>12</td>\n",
       "      <td>A</td>\n",
       "    </tr>\n",
       "    <tr>\n",
       "      <th>1</th>\n",
       "      <td>2021030045</td>\n",
       "      <td>patrick</td>\n",
       "      <td>34</td>\n",
       "      <td>B</td>\n",
       "    </tr>\n",
       "    <tr>\n",
       "      <th>2</th>\n",
       "      <td>2021030089</td>\n",
       "      <td>erick</td>\n",
       "      <td>56</td>\n",
       "      <td>C</td>\n",
       "    </tr>\n",
       "    <tr>\n",
       "      <th>3</th>\n",
       "      <td>2021030065</td>\n",
       "      <td>pasteur</td>\n",
       "      <td>76</td>\n",
       "      <td>B</td>\n",
       "    </tr>\n",
       "    <tr>\n",
       "      <th>4</th>\n",
       "      <td>20210300234</td>\n",
       "      <td>junior</td>\n",
       "      <td>32</td>\n",
       "      <td>A</td>\n",
       "    </tr>\n",
       "  </tbody>\n",
       "</table>\n",
       "</div>"
      ],
      "text/plain": [
       "     matricule      Nom  Age GPA\n",
       "0   2022020001     Diev   12   A\n",
       "1   2021030045  patrick   34   B\n",
       "2   2021030089    erick   56   C\n",
       "3   2021030065  pasteur   76   B\n",
       "4  20210300234   junior   32   A"
      ]
     },
     "execution_count": 222,
     "metadata": {},
     "output_type": "execute_result"
    }
   ],
   "source": [
    "donnees_etudiant"
   ]
  },
  {
   "cell_type": "code",
   "execution_count": 223,
   "id": "b000f6b1-526e-4885-8395-3f02ca859bbb",
   "metadata": {},
   "outputs": [
    {
     "data": {
      "text/html": [
       "<div>\n",
       "<style scoped>\n",
       "    .dataframe tbody tr th:only-of-type {\n",
       "        vertical-align: middle;\n",
       "    }\n",
       "\n",
       "    .dataframe tbody tr th {\n",
       "        vertical-align: top;\n",
       "    }\n",
       "\n",
       "    .dataframe thead th {\n",
       "        text-align: right;\n",
       "    }\n",
       "</style>\n",
       "<table border=\"1\" class=\"dataframe\">\n",
       "  <thead>\n",
       "    <tr style=\"text-align: right;\">\n",
       "      <th></th>\n",
       "      <th>matricule</th>\n",
       "      <th>Nom</th>\n",
       "      <th>Age</th>\n",
       "      <th>GPA</th>\n",
       "    </tr>\n",
       "  </thead>\n",
       "  <tbody>\n",
       "    <tr>\n",
       "      <th>0</th>\n",
       "      <td>2022020001</td>\n",
       "      <td>Diev</td>\n",
       "      <td>12</td>\n",
       "      <td>A</td>\n",
       "    </tr>\n",
       "    <tr>\n",
       "      <th>1</th>\n",
       "      <td>2021030045</td>\n",
       "      <td>patrick</td>\n",
       "      <td>34</td>\n",
       "      <td>B</td>\n",
       "    </tr>\n",
       "  </tbody>\n",
       "</table>\n",
       "</div>"
      ],
      "text/plain": [
       "    matricule      Nom  Age GPA\n",
       "0  2022020001     Diev   12   A\n",
       "1  2021030045  patrick   34   B"
      ]
     },
     "execution_count": 223,
     "metadata": {},
     "output_type": "execute_result"
    }
   ],
   "source": [
    "# acces á un element dans un dataFrame\n",
    "donnees_etudiant.head(2)"
   ]
  },
  {
   "cell_type": "code",
   "execution_count": 224,
   "id": "b56ccc8a-173f-41bb-bd5b-565d8c5c92fa",
   "metadata": {},
   "outputs": [
    {
     "data": {
      "text/plain": [
       "0     2022020001\n",
       "1     2021030045\n",
       "2     2021030089\n",
       "3     2021030065\n",
       "4    20210300234\n",
       "Name: matricule, dtype: object"
      ]
     },
     "execution_count": 224,
     "metadata": {},
     "output_type": "execute_result"
    }
   ],
   "source": [
    "# acces une colonne dans un dataFrame\n",
    "donnees_etudiant[\"matricule\"]\n"
   ]
  },
  {
   "cell_type": "code",
   "execution_count": 225,
   "id": "27d4e4b3-33ee-4167-9574-4506d48a831e",
   "metadata": {},
   "outputs": [
    {
     "data": {
      "text/html": [
       "<div>\n",
       "<style scoped>\n",
       "    .dataframe tbody tr th:only-of-type {\n",
       "        vertical-align: middle;\n",
       "    }\n",
       "\n",
       "    .dataframe tbody tr th {\n",
       "        vertical-align: top;\n",
       "    }\n",
       "\n",
       "    .dataframe thead th {\n",
       "        text-align: right;\n",
       "    }\n",
       "</style>\n",
       "<table border=\"1\" class=\"dataframe\">\n",
       "  <thead>\n",
       "    <tr style=\"text-align: right;\">\n",
       "      <th></th>\n",
       "      <th>matricule</th>\n",
       "      <th>Nom</th>\n",
       "    </tr>\n",
       "  </thead>\n",
       "  <tbody>\n",
       "    <tr>\n",
       "      <th>0</th>\n",
       "      <td>2022020001</td>\n",
       "      <td>Diev</td>\n",
       "    </tr>\n",
       "    <tr>\n",
       "      <th>1</th>\n",
       "      <td>2021030045</td>\n",
       "      <td>patrick</td>\n",
       "    </tr>\n",
       "    <tr>\n",
       "      <th>2</th>\n",
       "      <td>2021030089</td>\n",
       "      <td>erick</td>\n",
       "    </tr>\n",
       "    <tr>\n",
       "      <th>3</th>\n",
       "      <td>2021030065</td>\n",
       "      <td>pasteur</td>\n",
       "    </tr>\n",
       "    <tr>\n",
       "      <th>4</th>\n",
       "      <td>20210300234</td>\n",
       "      <td>junior</td>\n",
       "    </tr>\n",
       "  </tbody>\n",
       "</table>\n",
       "</div>"
      ],
      "text/plain": [
       "     matricule      Nom\n",
       "0   2022020001     Diev\n",
       "1   2021030045  patrick\n",
       "2   2021030089    erick\n",
       "3   2021030065  pasteur\n",
       "4  20210300234   junior"
      ]
     },
     "execution_count": 225,
     "metadata": {},
     "output_type": "execute_result"
    }
   ],
   "source": [
    "# acces a 2 colonnes\n",
    "donnees_etudiant[[\"matricule\",\"Nom\"]]"
   ]
  },
  {
   "cell_type": "code",
   "execution_count": 226,
   "id": "0b6b983d-e27d-4508-a338-e89fa33cc977",
   "metadata": {},
   "outputs": [
    {
     "data": {
      "text/html": [
       "<div>\n",
       "<style scoped>\n",
       "    .dataframe tbody tr th:only-of-type {\n",
       "        vertical-align: middle;\n",
       "    }\n",
       "\n",
       "    .dataframe tbody tr th {\n",
       "        vertical-align: top;\n",
       "    }\n",
       "\n",
       "    .dataframe thead th {\n",
       "        text-align: right;\n",
       "    }\n",
       "</style>\n",
       "<table border=\"1\" class=\"dataframe\">\n",
       "  <thead>\n",
       "    <tr style=\"text-align: right;\">\n",
       "      <th></th>\n",
       "      <th>matricule</th>\n",
       "      <th>Nom</th>\n",
       "      <th>Age</th>\n",
       "      <th>GPA</th>\n",
       "    </tr>\n",
       "  </thead>\n",
       "  <tbody>\n",
       "    <tr>\n",
       "      <th>2</th>\n",
       "      <td>2021030089</td>\n",
       "      <td>erick</td>\n",
       "      <td>56</td>\n",
       "      <td>C</td>\n",
       "    </tr>\n",
       "  </tbody>\n",
       "</table>\n",
       "</div>"
      ],
      "text/plain": [
       "    matricule    Nom  Age GPA\n",
       "2  2021030089  erick   56   C"
      ]
     },
     "execution_count": 226,
     "metadata": {},
     "output_type": "execute_result"
    }
   ],
   "source": [
    "\n",
    "donnees_etudiant.iloc[2:3, :]"
   ]
  },
  {
   "cell_type": "code",
   "execution_count": 227,
   "id": "fc72ae9f-ea63-45a2-9591-c0410c51da4e",
   "metadata": {},
   "outputs": [
    {
     "data": {
      "text/html": [
       "<div>\n",
       "<style scoped>\n",
       "    .dataframe tbody tr th:only-of-type {\n",
       "        vertical-align: middle;\n",
       "    }\n",
       "\n",
       "    .dataframe tbody tr th {\n",
       "        vertical-align: top;\n",
       "    }\n",
       "\n",
       "    .dataframe thead th {\n",
       "        text-align: right;\n",
       "    }\n",
       "</style>\n",
       "<table border=\"1\" class=\"dataframe\">\n",
       "  <thead>\n",
       "    <tr style=\"text-align: right;\">\n",
       "      <th></th>\n",
       "      <th>matricule</th>\n",
       "      <th>Nom</th>\n",
       "      <th>Age</th>\n",
       "      <th>GPA</th>\n",
       "    </tr>\n",
       "  </thead>\n",
       "  <tbody>\n",
       "    <tr>\n",
       "      <th>3</th>\n",
       "      <td>2021030065</td>\n",
       "      <td>pasteur</td>\n",
       "      <td>76</td>\n",
       "      <td>B</td>\n",
       "    </tr>\n",
       "  </tbody>\n",
       "</table>\n",
       "</div>"
      ],
      "text/plain": [
       "    matricule      Nom  Age GPA\n",
       "3  2021030065  pasteur   76   B"
      ]
     },
     "execution_count": 227,
     "metadata": {},
     "output_type": "execute_result"
    }
   ],
   "source": [
    "donnees_etudiant.iloc[3:4, :]"
   ]
  },
  {
   "cell_type": "code",
   "execution_count": 228,
   "id": "603bfb70-08a6-4944-8bac-57eebeb568e6",
   "metadata": {},
   "outputs": [
    {
     "data": {
      "text/html": [
       "<div>\n",
       "<style scoped>\n",
       "    .dataframe tbody tr th:only-of-type {\n",
       "        vertical-align: middle;\n",
       "    }\n",
       "\n",
       "    .dataframe tbody tr th {\n",
       "        vertical-align: top;\n",
       "    }\n",
       "\n",
       "    .dataframe thead th {\n",
       "        text-align: right;\n",
       "    }\n",
       "</style>\n",
       "<table border=\"1\" class=\"dataframe\">\n",
       "  <thead>\n",
       "    <tr style=\"text-align: right;\">\n",
       "      <th></th>\n",
       "      <th>Age</th>\n",
       "    </tr>\n",
       "  </thead>\n",
       "  <tbody>\n",
       "    <tr>\n",
       "      <th>0</th>\n",
       "      <td>12</td>\n",
       "    </tr>\n",
       "    <tr>\n",
       "      <th>1</th>\n",
       "      <td>34</td>\n",
       "    </tr>\n",
       "    <tr>\n",
       "      <th>2</th>\n",
       "      <td>56</td>\n",
       "    </tr>\n",
       "    <tr>\n",
       "      <th>3</th>\n",
       "      <td>76</td>\n",
       "    </tr>\n",
       "    <tr>\n",
       "      <th>4</th>\n",
       "      <td>32</td>\n",
       "    </tr>\n",
       "  </tbody>\n",
       "</table>\n",
       "</div>"
      ],
      "text/plain": [
       "   Age\n",
       "0   12\n",
       "1   34\n",
       "2   56\n",
       "3   76\n",
       "4   32"
      ]
     },
     "execution_count": 228,
     "metadata": {},
     "output_type": "execute_result"
    }
   ],
   "source": [
    "# accces un element sur la colonnedonnees_etudiant.iloc[:,]\n",
    "donnees_etudiant.iloc[:,2:3]"
   ]
  },
  {
   "cell_type": "code",
   "execution_count": 229,
   "id": "12b65036-f3b9-49a6-8f77-eec946f069c8",
   "metadata": {},
   "outputs": [
    {
     "data": {
      "text/html": [
       "<div>\n",
       "<style scoped>\n",
       "    .dataframe tbody tr th:only-of-type {\n",
       "        vertical-align: middle;\n",
       "    }\n",
       "\n",
       "    .dataframe tbody tr th {\n",
       "        vertical-align: top;\n",
       "    }\n",
       "\n",
       "    .dataframe thead th {\n",
       "        text-align: right;\n",
       "    }\n",
       "</style>\n",
       "<table border=\"1\" class=\"dataframe\">\n",
       "  <thead>\n",
       "    <tr style=\"text-align: right;\">\n",
       "      <th></th>\n",
       "      <th>Nom</th>\n",
       "    </tr>\n",
       "  </thead>\n",
       "  <tbody>\n",
       "    <tr>\n",
       "      <th>2</th>\n",
       "      <td>erick</td>\n",
       "    </tr>\n",
       "  </tbody>\n",
       "</table>\n",
       "</div>"
      ],
      "text/plain": [
       "     Nom\n",
       "2  erick"
      ]
     },
     "execution_count": 229,
     "metadata": {},
     "output_type": "execute_result"
    }
   ],
   "source": [
    "# acces a un seulement specifique dans le DataFrame\n",
    "donnees_etudiant.iloc[2:3,1:2]\n",
    "\n"
   ]
  },
  {
   "cell_type": "code",
   "execution_count": 230,
   "id": "8eae1198-30dc-41c4-87e4-0399e411b65e",
   "metadata": {},
   "outputs": [
    {
     "data": {
      "text/html": [
       "<div>\n",
       "<style scoped>\n",
       "    .dataframe tbody tr th:only-of-type {\n",
       "        vertical-align: middle;\n",
       "    }\n",
       "\n",
       "    .dataframe tbody tr th {\n",
       "        vertical-align: top;\n",
       "    }\n",
       "\n",
       "    .dataframe thead th {\n",
       "        text-align: right;\n",
       "    }\n",
       "</style>\n",
       "<table border=\"1\" class=\"dataframe\">\n",
       "  <thead>\n",
       "    <tr style=\"text-align: right;\">\n",
       "      <th></th>\n",
       "      <th>matricule</th>\n",
       "      <th>Nom</th>\n",
       "      <th>Age</th>\n",
       "      <th>GPA</th>\n",
       "      <th>Genre</th>\n",
       "    </tr>\n",
       "  </thead>\n",
       "  <tbody>\n",
       "    <tr>\n",
       "      <th>0</th>\n",
       "      <td>2022020001</td>\n",
       "      <td>Diev</td>\n",
       "      <td>12</td>\n",
       "      <td>A</td>\n",
       "      <td>M</td>\n",
       "    </tr>\n",
       "    <tr>\n",
       "      <th>1</th>\n",
       "      <td>2021030045</td>\n",
       "      <td>patrick</td>\n",
       "      <td>34</td>\n",
       "      <td>B</td>\n",
       "      <td>F</td>\n",
       "    </tr>\n",
       "    <tr>\n",
       "      <th>2</th>\n",
       "      <td>2021030089</td>\n",
       "      <td>erick</td>\n",
       "      <td>56</td>\n",
       "      <td>C</td>\n",
       "      <td>M</td>\n",
       "    </tr>\n",
       "    <tr>\n",
       "      <th>3</th>\n",
       "      <td>2021030065</td>\n",
       "      <td>pasteur</td>\n",
       "      <td>76</td>\n",
       "      <td>B</td>\n",
       "      <td>F</td>\n",
       "    </tr>\n",
       "    <tr>\n",
       "      <th>4</th>\n",
       "      <td>20210300234</td>\n",
       "      <td>junior</td>\n",
       "      <td>32</td>\n",
       "      <td>A</td>\n",
       "      <td>M</td>\n",
       "    </tr>\n",
       "  </tbody>\n",
       "</table>\n",
       "</div>"
      ],
      "text/plain": [
       "     matricule      Nom  Age GPA Genre\n",
       "0   2022020001     Diev   12   A     M\n",
       "1   2021030045  patrick   34   B     F\n",
       "2   2021030089    erick   56   C     M\n",
       "3   2021030065  pasteur   76   B     F\n",
       "4  20210300234   junior   32   A     M"
      ]
     },
     "execution_count": 230,
     "metadata": {},
     "output_type": "execute_result"
    }
   ],
   "source": [
    "# pour ajouter une colonne\n",
    "donnees_etudiant[\"Genre\"] =[\"M\",\"F\",\"M\",\"F\",\"M\"]\n",
    "donnees_etudiant"
   ]
  },
  {
   "cell_type": "code",
   "execution_count": 231,
   "id": "16871a0d-6d79-49ec-b48e-e3b04fd594ce",
   "metadata": {},
   "outputs": [
    {
     "data": {
      "text/html": [
       "<div>\n",
       "<style scoped>\n",
       "    .dataframe tbody tr th:only-of-type {\n",
       "        vertical-align: middle;\n",
       "    }\n",
       "\n",
       "    .dataframe tbody tr th {\n",
       "        vertical-align: top;\n",
       "    }\n",
       "\n",
       "    .dataframe thead th {\n",
       "        text-align: right;\n",
       "    }\n",
       "</style>\n",
       "<table border=\"1\" class=\"dataframe\">\n",
       "  <thead>\n",
       "    <tr style=\"text-align: right;\">\n",
       "      <th></th>\n",
       "      <th>matricule</th>\n",
       "      <th>Nom</th>\n",
       "      <th>Age</th>\n",
       "      <th>Genre</th>\n",
       "    </tr>\n",
       "  </thead>\n",
       "  <tbody>\n",
       "    <tr>\n",
       "      <th>0</th>\n",
       "      <td>2022020001</td>\n",
       "      <td>Diev</td>\n",
       "      <td>12</td>\n",
       "      <td>M</td>\n",
       "    </tr>\n",
       "    <tr>\n",
       "      <th>1</th>\n",
       "      <td>2021030045</td>\n",
       "      <td>patrick</td>\n",
       "      <td>34</td>\n",
       "      <td>F</td>\n",
       "    </tr>\n",
       "    <tr>\n",
       "      <th>2</th>\n",
       "      <td>2021030089</td>\n",
       "      <td>erick</td>\n",
       "      <td>56</td>\n",
       "      <td>M</td>\n",
       "    </tr>\n",
       "    <tr>\n",
       "      <th>3</th>\n",
       "      <td>2021030065</td>\n",
       "      <td>pasteur</td>\n",
       "      <td>76</td>\n",
       "      <td>F</td>\n",
       "    </tr>\n",
       "    <tr>\n",
       "      <th>4</th>\n",
       "      <td>20210300234</td>\n",
       "      <td>junior</td>\n",
       "      <td>32</td>\n",
       "      <td>M</td>\n",
       "    </tr>\n",
       "  </tbody>\n",
       "</table>\n",
       "</div>"
      ],
      "text/plain": [
       "     matricule      Nom  Age Genre\n",
       "0   2022020001     Diev   12     M\n",
       "1   2021030045  patrick   34     F\n",
       "2   2021030089    erick   56     M\n",
       "3   2021030065  pasteur   76     F\n",
       "4  20210300234   junior   32     M"
      ]
     },
     "execution_count": 231,
     "metadata": {},
     "output_type": "execute_result"
    }
   ],
   "source": [
    "donnees_etudiant.drop(columns=\"GPA\", inplace =True)\n",
    "donnees_etudiant"
   ]
  },
  {
   "cell_type": "code",
   "execution_count": 232,
   "id": "a3eb8a31-209c-4391-9756-8dcc0598ab38",
   "metadata": {},
   "outputs": [
    {
     "data": {
      "text/html": [
       "<div>\n",
       "<style scoped>\n",
       "    .dataframe tbody tr th:only-of-type {\n",
       "        vertical-align: middle;\n",
       "    }\n",
       "\n",
       "    .dataframe tbody tr th {\n",
       "        vertical-align: top;\n",
       "    }\n",
       "\n",
       "    .dataframe thead th {\n",
       "        text-align: right;\n",
       "    }\n",
       "</style>\n",
       "<table border=\"1\" class=\"dataframe\">\n",
       "  <thead>\n",
       "    <tr style=\"text-align: right;\">\n",
       "      <th></th>\n",
       "      <th>matricule</th>\n",
       "      <th>Nom</th>\n",
       "      <th>Age</th>\n",
       "      <th>Genre</th>\n",
       "      <th>pourcetage</th>\n",
       "    </tr>\n",
       "  </thead>\n",
       "  <tbody>\n",
       "    <tr>\n",
       "      <th>0</th>\n",
       "      <td>2022020001</td>\n",
       "      <td>Diev</td>\n",
       "      <td>12</td>\n",
       "      <td>M</td>\n",
       "      <td>56</td>\n",
       "    </tr>\n",
       "    <tr>\n",
       "      <th>1</th>\n",
       "      <td>2021030045</td>\n",
       "      <td>patrick</td>\n",
       "      <td>34</td>\n",
       "      <td>F</td>\n",
       "      <td>74</td>\n",
       "    </tr>\n",
       "    <tr>\n",
       "      <th>2</th>\n",
       "      <td>2021030089</td>\n",
       "      <td>erick</td>\n",
       "      <td>56</td>\n",
       "      <td>M</td>\n",
       "      <td>67</td>\n",
       "    </tr>\n",
       "    <tr>\n",
       "      <th>3</th>\n",
       "      <td>2021030065</td>\n",
       "      <td>pasteur</td>\n",
       "      <td>76</td>\n",
       "      <td>F</td>\n",
       "      <td>68,</td>\n",
       "    </tr>\n",
       "    <tr>\n",
       "      <th>4</th>\n",
       "      <td>20210300234</td>\n",
       "      <td>junior</td>\n",
       "      <td>32</td>\n",
       "      <td>M</td>\n",
       "      <td>90</td>\n",
       "    </tr>\n",
       "  </tbody>\n",
       "</table>\n",
       "</div>"
      ],
      "text/plain": [
       "     matricule      Nom  Age Genre pourcetage\n",
       "0   2022020001     Diev   12     M         56\n",
       "1   2021030045  patrick   34     F         74\n",
       "2   2021030089    erick   56     M         67\n",
       "3   2021030065  pasteur   76     F        68,\n",
       "4  20210300234   junior   32     M         90"
      ]
     },
     "execution_count": 232,
     "metadata": {},
     "output_type": "execute_result"
    }
   ],
   "source": [
    "donnees_etudiant[\"pourcetage\"]=[\"56\",\"74\",\"67\",\"68,\",\"90\"]\n",
    "donnees_etudiant"
   ]
  },
  {
   "cell_type": "code",
   "execution_count": 233,
   "id": "9a5839ac-4030-4687-9df9-19efad665253",
   "metadata": {},
   "outputs": [],
   "source": [
    "# convertir une colonne genre en M=1 et F=0\n",
    "# mapping de la colonne Genre\n",
    "\n",
    "Mapping_genre = {\n",
    "     \n",
    "    \"M\" : 1,  \n",
    "    \"F\" : 0,\n",
    "                \n",
    "     }\n",
    "\n",
    "donnees_etudiant[\"Genre\"] = donnees_etudiant[\"Genre\"].map(Mapping_genre)"
   ]
  },
  {
   "cell_type": "code",
   "execution_count": null,
   "id": "c07b11b6-6e34-4b46-a591-e029c3126beb",
   "metadata": {},
   "outputs": [],
   "source": []
  },
  {
   "cell_type": "code",
   "execution_count": 234,
   "id": "d48edc5e-37c0-48b5-a266-93bc573478c5",
   "metadata": {},
   "outputs": [
    {
     "data": {
      "text/html": [
       "<div>\n",
       "<style scoped>\n",
       "    .dataframe tbody tr th:only-of-type {\n",
       "        vertical-align: middle;\n",
       "    }\n",
       "\n",
       "    .dataframe tbody tr th {\n",
       "        vertical-align: top;\n",
       "    }\n",
       "\n",
       "    .dataframe thead th {\n",
       "        text-align: right;\n",
       "    }\n",
       "</style>\n",
       "<table border=\"1\" class=\"dataframe\">\n",
       "  <thead>\n",
       "    <tr style=\"text-align: right;\">\n",
       "      <th></th>\n",
       "      <th>matricule</th>\n",
       "      <th>Nom</th>\n",
       "      <th>Age</th>\n",
       "      <th>Genre</th>\n",
       "      <th>pourcetage</th>\n",
       "    </tr>\n",
       "  </thead>\n",
       "  <tbody>\n",
       "    <tr>\n",
       "      <th>0</th>\n",
       "      <td>2022020001</td>\n",
       "      <td>Diev</td>\n",
       "      <td>12</td>\n",
       "      <td>1</td>\n",
       "      <td>56</td>\n",
       "    </tr>\n",
       "    <tr>\n",
       "      <th>1</th>\n",
       "      <td>2021030045</td>\n",
       "      <td>patrick</td>\n",
       "      <td>34</td>\n",
       "      <td>0</td>\n",
       "      <td>74</td>\n",
       "    </tr>\n",
       "    <tr>\n",
       "      <th>2</th>\n",
       "      <td>2021030089</td>\n",
       "      <td>erick</td>\n",
       "      <td>56</td>\n",
       "      <td>1</td>\n",
       "      <td>67</td>\n",
       "    </tr>\n",
       "    <tr>\n",
       "      <th>3</th>\n",
       "      <td>2021030065</td>\n",
       "      <td>pasteur</td>\n",
       "      <td>76</td>\n",
       "      <td>0</td>\n",
       "      <td>68,</td>\n",
       "    </tr>\n",
       "    <tr>\n",
       "      <th>4</th>\n",
       "      <td>20210300234</td>\n",
       "      <td>junior</td>\n",
       "      <td>32</td>\n",
       "      <td>1</td>\n",
       "      <td>90</td>\n",
       "    </tr>\n",
       "  </tbody>\n",
       "</table>\n",
       "</div>"
      ],
      "text/plain": [
       "     matricule      Nom  Age  Genre pourcetage\n",
       "0   2022020001     Diev   12      1         56\n",
       "1   2021030045  patrick   34      0         74\n",
       "2   2021030089    erick   56      1         67\n",
       "3   2021030065  pasteur   76      0        68,\n",
       "4  20210300234   junior   32      1         90"
      ]
     },
     "execution_count": 234,
     "metadata": {},
     "output_type": "execute_result"
    }
   ],
   "source": [
    "donnees_etudiant"
   ]
  },
  {
   "cell_type": "code",
   "execution_count": 235,
   "id": "4f59a5c5-ae3c-479b-a5df-06d99ef62372",
   "metadata": {},
   "outputs": [
    {
     "name": "stdout",
     "output_type": "stream",
     "text": [
      "<class 'pandas.core.frame.DataFrame'>\n",
      "RangeIndex: 5 entries, 0 to 4\n",
      "Data columns (total 5 columns):\n",
      " #   Column      Non-Null Count  Dtype \n",
      "---  ------      --------------  ----- \n",
      " 0   matricule   5 non-null      object\n",
      " 1   Nom         5 non-null      object\n",
      " 2   Age         5 non-null      int64 \n",
      " 3   Genre       5 non-null      int64 \n",
      " 4   pourcetage  5 non-null      object\n",
      "dtypes: int64(2), object(3)\n",
      "memory usage: 328.0+ bytes\n"
     ]
    }
   ],
   "source": [
    "donnees_etudiant.info()"
   ]
  },
  {
   "cell_type": "markdown",
   "id": "1d740b97-b56e-4406-9a96-19e628cbfcbb",
   "metadata": {},
   "source": [
    "# D. ViSUALISATION DES DONNEES"
   ]
  },
  {
   "cell_type": "code",
   "execution_count": 236,
   "id": "aab26289-3215-43db-af94-8c8ebdccb407",
   "metadata": {},
   "outputs": [
    {
     "data": {
      "text/plain": [
       "array([0.        , 0.04081633, 0.08163265, 0.12244898, 0.16326531,\n",
       "       0.20408163, 0.24489796, 0.28571429, 0.32653061, 0.36734694,\n",
       "       0.40816327, 0.44897959, 0.48979592, 0.53061224, 0.57142857,\n",
       "       0.6122449 , 0.65306122, 0.69387755, 0.73469388, 0.7755102 ,\n",
       "       0.81632653, 0.85714286, 0.89795918, 0.93877551, 0.97959184,\n",
       "       1.02040816, 1.06122449, 1.10204082, 1.14285714, 1.18367347,\n",
       "       1.2244898 , 1.26530612, 1.30612245, 1.34693878, 1.3877551 ,\n",
       "       1.42857143, 1.46938776, 1.51020408, 1.55102041, 1.59183673,\n",
       "       1.63265306, 1.67346939, 1.71428571, 1.75510204, 1.79591837,\n",
       "       1.83673469, 1.87755102, 1.91836735, 1.95918367, 2.        ])"
      ]
     },
     "execution_count": 236,
     "metadata": {},
     "output_type": "execute_result"
    }
   ],
   "source": [
    "#creation de donnees\n",
    "x=np.linspace(0,2,50)\n",
    "x"
   ]
  },
  {
   "cell_type": "code",
   "execution_count": 237,
   "id": "51b90f6b-96b6-4a1e-9d76-6d2eee63f9d1",
   "metadata": {},
   "outputs": [],
   "source": [
    "import matplotlib.pyplot as plt\n"
   ]
  },
  {
   "cell_type": "code",
   "execution_count": 238,
   "id": "797a8725-8a82-43ae-9d4c-4d6bcc0be20e",
   "metadata": {},
   "outputs": [
    {
     "data": {
      "text/plain": [
       "<matplotlib.legend.Legend at 0x2274e3cab90>"
      ]
     },
     "execution_count": 238,
     "metadata": {},
     "output_type": "execute_result"
    },
    {
     "data": {
      "image/png": "[encoded data removed]",
      "text/plain": [
       "<Figure size 600x400 with 1 Axes>"
      ]
     },
     "metadata": {},
     "output_type": "display_data"
    }
   ],
   "source": [
    "fig, ax =plt.subplots(figsize=(6,4))\n",
    "ax.plot(x, x*2,label=\"Double\")\n",
    "ax.plot(x,x**2,label=\"Carre de X\")\n",
    "ax.plot(x, x**3,label= \"cubique\")\n",
    "ax.set_xlabel(\"Donnees de X\")\n",
    "ax.set_ylabel(\"Donnees de Y\")\n",
    "ax.set_title(\"legende\")\n",
    "ax.legend()\n"
   ]
  },
  {
   "cell_type": "code",
   "execution_count": 239,
   "id": "4b683c56-3be2-44a7-b5f0-8fc566d34da5",
   "metadata": {},
   "outputs": [],
   "source": [
    "import seaborn as sbns"
   ]
  },
  {
   "cell_type": "code",
   "execution_count": 240,
   "id": "198bf76a-188a-4ea5-b59e-8af68a24f492",
   "metadata": {},
   "outputs": [],
   "source": [
    "iris_data = sbns.load_dataset('iris')"
   ]
  },
  {
   "cell_type": "code",
   "execution_count": 241,
   "id": "61ab1635-08eb-4d7d-84da-dc5043ae5c85",
   "metadata": {},
   "outputs": [
    {
     "data": {
      "text/plain": [
       "<bound method NDFrame.head of      sepal_length  sepal_width  petal_length  petal_width    species\n",
       "0             5.1          3.5           1.4          0.2     setosa\n",
       "1             4.9          3.0           1.4          0.2     setosa\n",
       "2             4.7          3.2           1.3          0.2     setosa\n",
       "3             4.6          3.1           1.5          0.2     setosa\n",
       "4             5.0          3.6           1.4          0.2     setosa\n",
       "..            ...          ...           ...          ...        ...\n",
       "145           6.7          3.0           5.2          2.3  virginica\n",
       "146           6.3          2.5           5.0          1.9  virginica\n",
       "147           6.5          3.0           5.2          2.0  virginica\n",
       "148           6.2          3.4           5.4          2.3  virginica\n",
       "149           5.9          3.0           5.1          1.8  virginica\n",
       "\n",
       "[150 rows x 5 columns]>"
      ]
     },
     "execution_count": 241,
     "metadata": {},
     "output_type": "execute_result"
    }
   ],
   "source": [
    "iris_data.head"
   ]
  },
  {
   "cell_type": "code",
   "execution_count": 242,
   "id": "502f4e1c-d6ef-4512-9cfe-c772ac1965ca",
   "metadata": {},
   "outputs": [
    {
     "data": {
      "text/plain": [
       "(150, 5)"
      ]
     },
     "execution_count": 242,
     "metadata": {},
     "output_type": "execute_result"
    }
   ],
   "source": [
    "iris_data.shape "
   ]
  },
  {
   "cell_type": "code",
   "execution_count": 243,
   "id": "98713b9c-4ab5-494b-af6e-e4f8be8efff1",
   "metadata": {},
   "outputs": [
    {
     "data": {
      "text/plain": [
       "array(['setosa', 'versicolor', 'virginica'], dtype=object)"
      ]
     },
     "execution_count": 243,
     "metadata": {},
     "output_type": "execute_result"
    }
   ],
   "source": [
    "iris_data[\"species\"].unique()"
   ]
  },
  {
   "cell_type": "code",
   "execution_count": null,
   "id": "805bcce2-675a-4e4b-91d1-5f427ba729e4",
   "metadata": {},
   "outputs": [],
   "source": []
  },
  {
   "cell_type": "code",
   "execution_count": 245,
   "id": "58f0e88f-19ea-40d9-8730-4f0acd908ba3",
   "metadata": {},
   "outputs": [
    {
     "data": {
      "text/plain": [
       "<Axes: xlabel='sepal_length', ylabel='sepal_width'>"
      ]
     },
     "execution_count": 245,
     "metadata": {},
     "output_type": "execute_result"
    },
    {
     "data": {
      "image/png": "[encoded data removed]",
      "text/plain": [
       "<Figure size 640x480 with 1 Axes>"
      ]
     },
     "metadata": {},
     "output_type": "display_data"
    }
   ],
   "source": [
    "sbns.scatterplot(x=\"sepal_length\",y=\"sepal_width\", data =iris_data, hue=\"species\")"
   ]
  },
  {
   "cell_type": "code",
   "execution_count": null,
   "id": "81110b60-0a7d-43b1-bfa2-c53922067560",
   "metadata": {},
   "outputs": [],
   "source": []
  },
  {
   "cell_type": "code",
   "execution_count": 249,
   "id": "36db4978-ed65-4ae0-b83f-45af0322b554",
   "metadata": {},
   "outputs": [
    {
     "data": {
      "text/plain": [
       "array([0, 1, 2])"
      ]
     },
     "execution_count": 249,
     "metadata": {},
     "output_type": "execute_result"
    }
   ],
   "source": [
    "Mapping_id ={\n",
    "    \"setosa\":0,\n",
    "    \"versicolor\": 1,\n",
    "    \"virginica\":2\n",
    "}\n",
    "iris_data[\"species\"] =iris_data[\"species\"].map(Mapping_id)\n",
    "iris_data[\"species\"].unique()"
   ]
  },
  {
   "cell_type": "code",
   "execution_count": null,
   "id": "c2eeae0d-aa57-4fa7-8fbf-395c53351d9b",
   "metadata": {},
   "outputs": [],
   "source": []
  }
 ],
 "metadata": {
  "kernelspec": {
   "display_name": "Python 3 (ipykernel)",
   "language": "python",
   "name": "python3"
  },
  "language_info": {
   "codemirror_mode": {
    "name": "ipython",
    "version": 3
   },
   "file_extension": ".py",
   "mimetype": "text/x-python",
   "name": "python",
   "nbconvert_exporter": "python",
   "pygments_lexer": "ipython3",
   "version": "3.10.16"
  }
 },
 "nbformat": 4,
 "nbformat_minor": 5
}
